{
 "cells": [
  {
   "cell_type": "markdown",
   "metadata": {},
   "source": [
    "# Machine Learning com Python"
   ]
  },
  {
   "cell_type": "markdown",
   "metadata": {},
   "source": [
    "## Objetivos\n",
    "* Aprender **noções básicas** de Machine Learning usando Python\n",
    "* Conhecer o **Scikit-Learn** e aprender a usa-lo como uma ferramenta"
   ]
  },
  {
   "cell_type": "markdown",
   "metadata": {},
   "source": [
    "## Agenda\n",
    "\n",
    "| Início | Término | Duração | Descrição |\n",
    "|--------|---------|---------|-----------|\n",
    "| 14:00  | 14:15   | 15 min  | Instalação|\n",
    "| 14:15  | 15:00   | 45 min  | Noções Básicas de Machine Learning com Scikit-Learn |\n",
    "| 15:00  | 15:30   | 30 min  | Aprendizado Supervisionado (Parte 1) |\n",
    "| 15:30  | 15:50   | 20 min  | Intervalo |\n",
    "| 15:50  | 16:05   | 15 min  | Aprendizado Supervisinado (Parte 2) |\n",
    "| 16:05  | 16:50   | 45 min  | Aprendizado Não Supervisionado |\n",
    "| 16:50  | 17:30   | 40 min  | Validação e Seleção de Modelos |\n"
   ]
  },
  {
   "cell_type": "markdown",
   "metadata": {},
   "source": [
    "## Instalações\n",
    "Você vai precisar dos seguintes pacotes a seguir\n",
    "\n",
    "* Python 3\n",
    "* NumPy >= 1.11 (http://www.numpy.org/)\n",
    "* SciPy >= 0.18 (https://www.scipy.org/)\n",
    "* MatplotLib >= 1.5 (http://matplotlib.org/)\n",
    "* Scikit-Learn >= 1.8 (http://scikit-learn.org/stable/)\n",
    "* IPython(-notebook) >= 4 (https://ipython.org/notebook.html)\n",
    "* Seaborn >= 0.7 (https://pypi.python.org/pypi/seaborn)\n",
    "\n",
    "Você pode instalar todos esses pacotes sozinho, mas é aconselhável utilizar o gerenciador de ambientes [conda](https://www.continuum.io/why-anaconda). Isso irá lhe tomar algum tempo. **Alternativamente, instale [miniconda](http://conda.pydata.org/miniconda.html).**\n",
    "\n",
    "Após ter o gerenciador instalado, você conseguirá instalar todos os pacotes necessários para o nosso workshop através da seguinte linha de comando:\n",
    "> $> conda install numpy scipy matplotlib scikit-learn ipython-notebook seaborn"
   ]
  },
  {
   "cell_type": "markdown",
   "metadata": {},
   "source": [
    "### Verificando se estamos prontos!\n",
    "\n",
    "Antes de prosseguirmos, vamos verificar se temos todos os pacotes necessários instalados, através do seguinte trecho de código em Python:"
   ]
  },
  {
   "cell_type": "code",
   "execution_count": 1,
   "metadata": {
    "collapsed": false
   },
   "outputs": [
    {
     "name": "stdout",
     "output_type": "stream",
     "text": [
      "IPython: 4.2.0\n",
      "numpy: 1.11.2\n",
      "scipy: 0.18.1\n",
      "matplotlib: 1.5.3\n",
      "scikit-learn: 0.18\n",
      "seaborn 0.7.1\n"
     ]
    }
   ],
   "source": [
    "from __future__ import print_function\n",
    "\n",
    "import IPython\n",
    "print('IPython:', IPython.__version__)\n",
    "\n",
    "import numpy\n",
    "print('numpy:', numpy.__version__)\n",
    "\n",
    "import scipy\n",
    "print('scipy:', scipy.__version__)\n",
    "\n",
    "import matplotlib\n",
    "print('matplotlib:', matplotlib.__version__)\n",
    "\n",
    "import sklearn\n",
    "print('scikit-learn:', sklearn.__version__)\n",
    "\n",
    "import seaborn\n",
    "print('seaborn', seaborn.__version__)"
   ]
  }
 ],
 "metadata": {
  "kernelspec": {
   "display_name": "Python 3",
   "language": "python",
   "name": "python3"
  },
  "language_info": {
   "codemirror_mode": {
    "name": "ipython",
    "version": 3
   },
   "file_extension": ".py",
   "mimetype": "text/x-python",
   "name": "python",
   "nbconvert_exporter": "python",
   "pygments_lexer": "ipython3",
   "version": "3.5.2"
  }
 },
 "nbformat": 4,
 "nbformat_minor": 0
}
