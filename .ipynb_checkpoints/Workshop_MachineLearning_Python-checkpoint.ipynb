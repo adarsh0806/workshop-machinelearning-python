{
 "cells": [
  {
   "cell_type": "markdown",
   "metadata": {},
   "source": [
    "# Machine Learning com Python"
   ]
  },
  {
   "cell_type": "markdown",
   "metadata": {},
   "source": [
    "## Objetivos\n",
    "* Aprender **noções básicas** de Machine Learning usando Python\n",
    "* Conhecer o **Scikit-Learn** e aprender a usa-lo como uma ferramenta"
   ]
  },
  {
   "cell_type": "markdown",
   "metadata": {},
   "source": [
    "## Agenda\n",
    "\n",
    "| Início | Término | Duração | Descrição |\n",
    "|--------|---------|---------|-----------|\n",
    "| 14:00  | 14:15   | 15 min  | Instalação|\n",
    "| 14:15  | 15:00   | 45 min  | Noções Básicas de Machine Learning com Scikit-Learn |\n",
    "| 15:00  | 15:30   | 30 min  | Aprendizado Supervisionado (Parte 1) |\n",
    "| 15:30  | 15:50   | 20 min  | Intervalo |\n",
    "| 15:50  | 16:05   | 15 min  | Aprendizado Supervisinado (Parte 2) |\n",
    "| 16:05  | 16:50   | 45 min  | Aprendizado Não Supervisionado |\n",
    "| 16:50  | 17:30   | 40 min  | Validação e Seleção de Modelos |\n"
   ]
  }
 ],
 "metadata": {
  "kernelspec": {
   "display_name": "Python 3",
   "language": "python",
   "name": "python3"
  },
  "language_info": {
   "codemirror_mode": {
    "name": "ipython",
    "version": 3
   },
   "file_extension": ".py",
   "mimetype": "text/x-python",
   "name": "python",
   "nbconvert_exporter": "python",
   "pygments_lexer": "ipython3",
   "version": "3.5.2"
  }
 },
 "nbformat": 4,
 "nbformat_minor": 0
}
